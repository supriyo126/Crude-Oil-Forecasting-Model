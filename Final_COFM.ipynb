{
 "cells": [
  {
   "cell_type": "code",
   "execution_count": 1,
   "id": "70ccab39-b48a-4e1e-add7-a4f0d42e1b51",
   "metadata": {},
   "outputs": [
    {
     "name": "stdout",
     "output_type": "stream",
     "text": [
      "Requirement already satisfied: yfinance in /opt/anaconda3/lib/python3.12/site-packages (0.2.55)\n",
      "Requirement already satisfied: pandas>=1.3.0 in /opt/anaconda3/lib/python3.12/site-packages (from yfinance) (2.2.2)\n",
      "Requirement already satisfied: numpy>=1.16.5 in /opt/anaconda3/lib/python3.12/site-packages (from yfinance) (1.26.4)\n",
      "Requirement already satisfied: requests>=2.31 in /opt/anaconda3/lib/python3.12/site-packages (from yfinance) (2.32.2)\n",
      "Requirement already satisfied: multitasking>=0.0.7 in /opt/anaconda3/lib/python3.12/site-packages (from yfinance) (0.0.11)\n",
      "Requirement already satisfied: platformdirs>=2.0.0 in /opt/anaconda3/lib/python3.12/site-packages (from yfinance) (3.10.0)\n",
      "Requirement already satisfied: pytz>=2022.5 in /opt/anaconda3/lib/python3.12/site-packages (from yfinance) (2025.2)\n",
      "Requirement already satisfied: frozendict>=2.3.4 in /opt/anaconda3/lib/python3.12/site-packages (from yfinance) (2.4.2)\n",
      "Requirement already satisfied: peewee>=3.16.2 in /opt/anaconda3/lib/python3.12/site-packages (from yfinance) (3.17.9)\n",
      "Requirement already satisfied: beautifulsoup4>=4.11.1 in /opt/anaconda3/lib/python3.12/site-packages (from yfinance) (4.12.3)\n",
      "Requirement already satisfied: soupsieve>1.2 in /opt/anaconda3/lib/python3.12/site-packages (from beautifulsoup4>=4.11.1->yfinance) (2.5)\n",
      "Requirement already satisfied: python-dateutil>=2.8.2 in /opt/anaconda3/lib/python3.12/site-packages (from pandas>=1.3.0->yfinance) (2.9.0.post0)\n",
      "Requirement already satisfied: tzdata>=2022.7 in /opt/anaconda3/lib/python3.12/site-packages (from pandas>=1.3.0->yfinance) (2023.3)\n",
      "Requirement already satisfied: charset-normalizer<4,>=2 in /opt/anaconda3/lib/python3.12/site-packages (from requests>=2.31->yfinance) (2.0.4)\n",
      "Requirement already satisfied: idna<4,>=2.5 in /opt/anaconda3/lib/python3.12/site-packages (from requests>=2.31->yfinance) (3.7)\n",
      "Requirement already satisfied: urllib3<3,>=1.21.1 in /opt/anaconda3/lib/python3.12/site-packages (from requests>=2.31->yfinance) (2.2.2)\n",
      "Requirement already satisfied: certifi>=2017.4.17 in /opt/anaconda3/lib/python3.12/site-packages (from requests>=2.31->yfinance) (2024.6.2)\n",
      "Requirement already satisfied: six>=1.5 in /opt/anaconda3/lib/python3.12/site-packages (from python-dateutil>=2.8.2->pandas>=1.3.0->yfinance) (1.16.0)\n",
      "Note: you may need to restart the kernel to use updated packages.\n"
     ]
    }
   ],
   "source": [
    "pip install yfinance"
   ]
  },
  {
   "cell_type": "code",
   "execution_count": 3,
   "id": "fd39800f-618c-4e97-916e-cd99cc942f79",
   "metadata": {},
   "outputs": [
    {
     "name": "stderr",
     "output_type": "stream",
     "text": [
      "[*********************100%***********************]  1 of 1 completed"
     ]
    },
    {
     "name": "stdout",
     "output_type": "stream",
     "text": [
      "Clean Brent Crude Price data saved as brent_crude_clean.csv\n"
     ]
    },
    {
     "name": "stderr",
     "output_type": "stream",
     "text": [
      "\n"
     ]
    }
   ],
   "source": [
    "import yfinance as yf\n",
    "import pandas as pd\n",
    "\n",
    "# Download Brent Crude Oil prices (BZ=F)\n",
    "brent_data = yf.download(\"BZ=F\", start=\"2018-01-01\", end=\"2024-12-31\", interval=\"1d\")\n",
    "\n",
    "# Reset index to bring Date into a column\n",
    "brent_data.reset_index(inplace=True)\n",
    "\n",
    "# Select only Date and Close (or use 'Adj Close' if you want adjusted prices)\n",
    "brent_clean = brent_data[['Date', 'Close']].rename(columns={'Close': 'brent_crude_price'})\n",
    "\n",
    "# Save to CSV\n",
    "brent_clean.to_csv(\"brent_crude_clean.csv\", index=False)\n",
    "\n",
    "print(\"Clean Brent Crude Price data saved as brent_crude_clean.csv\")"
   ]
  },
  {
   "cell_type": "code",
   "execution_count": 5,
   "id": "45b04725-64ae-47ea-926c-33774730eba6",
   "metadata": {},
   "outputs": [
    {
     "name": "stderr",
     "output_type": "stream",
     "text": [
      "[*********************100%***********************]  1 of 1 completed"
     ]
    },
    {
     "name": "stdout",
     "output_type": "stream",
     "text": [
      "Clean WTI Crude Price data saved as wti_crude_clean.csv\n"
     ]
    },
    {
     "name": "stderr",
     "output_type": "stream",
     "text": [
      "\n"
     ]
    }
   ],
   "source": [
    "import yfinance as yf\n",
    "import pandas as pd\n",
    "\n",
    "# Download WTI Crude Oil prices (CL=F)\n",
    "wti_data = yf.download(\"CL=F\", start=\"2018-01-01\", end=\"2024-12-31\", interval=\"1d\")\n",
    "\n",
    "# Reset index to bring Date into a column\n",
    "wti_data.reset_index(inplace=True)\n",
    "\n",
    "# Select only Date and Close\n",
    "wti_clean = wti_data[['Date', 'Close']].rename(columns={'Close': 'wti_crude_price'})\n",
    "\n",
    "# Save to CSV\n",
    "wti_clean.to_csv(\"wti_crude_clean.csv\", index=False)\n",
    "\n",
    "print(\"Clean WTI Crude Price data saved as wti_crude_clean.csv\")"
   ]
  },
  {
   "cell_type": "code",
   "execution_count": 15,
   "id": "37523c4b-9d18-4456-857f-c5d9412a0e8d",
   "metadata": {},
   "outputs": [
    {
     "name": "stdout",
     "output_type": "stream",
     "text": [
      "✅ Saved wti_crude_eia_clean.csv with shape: (1760, 2)\n",
      "Price        Date wti_crude_eia_price\n",
      "Ticker                           CL=F\n",
      "0      2018-01-02           60.369999\n",
      "1      2018-01-03           61.630001\n",
      "2      2018-01-04           62.009998\n",
      "3      2018-01-05           61.439999\n",
      "4      2018-01-08           61.730000\n"
     ]
    }
   ],
   "source": [
    "import yfinance as yf\n",
    "import pandas as pd\n",
    "\n",
    "# WTI Crude Oil Futures Ticker\n",
    "ticker = \"CL=F\"\n",
    "start_date = \"2018-01-01\"\n",
    "end_date = \"2024-12-31\"\n",
    "\n",
    "# Fetch from Yahoo\n",
    "data = yf.download(ticker, start=start_date, end=end_date, progress=False)\n",
    "\n",
    "# If data exists, save it\n",
    "if not data.empty:\n",
    "    df_wti_eia = data.reset_index()[[\"Date\", \"Close\"]].rename(columns={\"Close\": \"wti_crude_eia_price\"})\n",
    "    df_wti_eia.to_csv(\"wti_crude_eia_clean.csv\", index=False)\n",
    "    print(\"✅ Saved wti_crude_eia_clean.csv with shape:\", df_wti_eia.shape)\n",
    "    print(df_wti_eia.head())\n",
    "else:\n",
    "    print(\"❌ No data returned. Try again or check internet/firewall.\")"
   ]
  },
  {
   "cell_type": "code",
   "execution_count": 17,
   "id": "2962423e-0eca-41f7-b143-773966eb5234",
   "metadata": {},
   "outputs": [
    {
     "name": "stderr",
     "output_type": "stream",
     "text": [
      "[*********************100%***********************]  1 of 1 completed"
     ]
    },
    {
     "name": "stdout",
     "output_type": "stream",
     "text": [
      "✅ Clean US Dollar Index data saved as us_dxy_index_clean.csv\n"
     ]
    },
    {
     "name": "stderr",
     "output_type": "stream",
     "text": [
      "\n"
     ]
    }
   ],
   "source": [
    "import yfinance as yf\n",
    "import pandas as pd\n",
    "\n",
    "# DXY Index ticker on Yahoo Finance\n",
    "dxy_data = yf.download(\"DX-Y.NYB\", start=\"2018-01-01\", end=\"2024-12-31\", interval=\"1d\")\n",
    "\n",
    "# Reset index\n",
    "dxy_data.reset_index(inplace=True)\n",
    "\n",
    "# Clean and rename\n",
    "dxy_clean = dxy_data[['Date', 'Close']].rename(columns={'Close': 'us_dxy_index'})\n",
    "\n",
    "# Save\n",
    "dxy_clean.to_csv(\"us_dxy_index_clean.csv\", index=False)\n",
    "\n",
    "print(\"✅ Clean US Dollar Index data saved as us_dxy_index_clean.csv\")"
   ]
  },
  {
   "cell_type": "code",
   "execution_count": 19,
   "id": "fd61da87-eb55-4597-abb8-746ab28c91f2",
   "metadata": {},
   "outputs": [
    {
     "name": "stdout",
     "output_type": "stream",
     "text": [
      "✅ CPI data saved as us_cpi_clean.csv\n"
     ]
    }
   ],
   "source": [
    "import requests\n",
    "import pandas as pd\n",
    "\n",
    "# Your FRED API Key\n",
    "api_key = \"3d2d1e3d7bb2203260e369a4e6dbddf1\"  # Replace with your actual key\n",
    "\n",
    "# CPI Series ID\n",
    "series_id = \"CPIAUCSL\"\n",
    "\n",
    "# FRED API URL\n",
    "url = f\"https://api.stlouisfed.org/fred/series/observations?series_id={series_id}&api_key={api_key}&file_type=json\"\n",
    "\n",
    "# Make the request\n",
    "response = requests.get(url)\n",
    "data = response.json()\n",
    "\n",
    "# Process if valid\n",
    "if \"observations\" in data:\n",
    "    df = pd.DataFrame(data[\"observations\"])\n",
    "    \n",
    "    # Clean and rename\n",
    "    df = df[['date', 'value']].rename(columns={'date': 'Date', 'value': 'us_cpi'})\n",
    "    df['Date'] = pd.to_datetime(df['Date'])\n",
    "    df['us_cpi'] = pd.to_numeric(df['us_cpi'], errors='coerce')\n",
    "\n",
    "    # Filter to required date range\n",
    "    df = df[(df['Date'] >= \"2018-01-01\") & (df['Date'] <= \"2024-12-31\")]\n",
    "\n",
    "    # Save\n",
    "    df.to_csv(\"us_cpi_clean.csv\", index=False)\n",
    "    print(\"✅ CPI data saved as us_cpi_clean.csv\")\n",
    "else:\n",
    "    print(\"❌ Failed to fetch CPI data from FRED API.\")"
   ]
  },
  {
   "cell_type": "code",
   "execution_count": 21,
   "id": "e958826c-5ddb-4607-a899-ea77aae1396d",
   "metadata": {},
   "outputs": [
    {
     "name": "stdout",
     "output_type": "stream",
     "text": [
      "✅ Fed Rate data saved as us_fed_rate_clean.csv\n"
     ]
    }
   ],
   "source": [
    "import requests\n",
    "import pandas as pd\n",
    "\n",
    "# Your FRED API Key\n",
    "api_key = \"3d2d1e3d7bb2203260e369a4e6dbddf1\"  # Replace with your real key\n",
    "\n",
    "# Fed Funds Rate Series ID\n",
    "series_id = \"FEDFUNDS\"\n",
    "\n",
    "# FRED API Endpoint\n",
    "url = f\"https://api.stlouisfed.org/fred/series/observations?series_id={series_id}&api_key={api_key}&file_type=json\"\n",
    "\n",
    "# Fetch data\n",
    "response = requests.get(url)\n",
    "data = response.json()\n",
    "\n",
    "# Process response\n",
    "if \"observations\" in data:\n",
    "    df = pd.DataFrame(data[\"observations\"])\n",
    "    \n",
    "    # Clean and rename\n",
    "    df = df[['date', 'value']].rename(columns={'date': 'Date', 'value': 'us_fed_rate'})\n",
    "    df['Date'] = pd.to_datetime(df['Date'])\n",
    "    df['us_fed_rate'] = pd.to_numeric(df['us_fed_rate'], errors='coerce')\n",
    "\n",
    "    # Filter for synced range\n",
    "    df = df[(df['Date'] >= \"2018-01-01\") & (df['Date'] <= \"2024-12-31\")]\n",
    "\n",
    "    # Save\n",
    "    df.to_csv(\"us_fed_rate_clean.csv\", index=False)\n",
    "    print(\"✅ Fed Rate data saved as us_fed_rate_clean.csv\")\n",
    "else:\n",
    "    print(\"❌ Failed to fetch Fed Rate data from FRED.\")"
   ]
  },
  {
   "cell_type": "code",
   "execution_count": 25,
   "id": "ba45057a-e4d1-467b-adf7-e78b7f084c68",
   "metadata": {},
   "outputs": [
    {
     "name": "stdout",
     "output_type": "stream",
     "text": [
      "✅ OPEC production data saved as opec_production_clean.csv\n"
     ]
    }
   ],
   "source": [
    "import requests\n",
    "import pandas as pd\n",
    "\n",
    "# Your EIA API Key\n",
    "api_key = \"xHA7KFfRqzWHCp1lWY0Mnmrjj1MkXyL5uYWcYais\"  # Replace with your actual EIA API key\n",
    "\n",
    "# OPEC Monthly Crude Production Series ID\n",
    "series_id = \"PET.OPECPE2.M\"\n",
    "\n",
    "# Correct v2 Endpoint for EIA Series Data\n",
    "url = f\"https://api.eia.gov/v2/seriesid/PET.RWTC.D?api_key={api_key}\"\n",
    "\n",
    "# Parameters for the API request\n",
    "params = {\n",
    "    \"api_key\": api_key,\n",
    "    \"start\": \"2018-01-01\",\n",
    "    \"end\": \"2024-12-31\",\n",
    "    \"data\": [\"value\"],\n",
    "    \"frequency\": \"monthly\",\n",
    "    \"sort[0][column]\": \"period\",\n",
    "    \"sort[0][direction]\": \"desc\",\n",
    "    \"offset\": 0,\n",
    "    \"length\": 5000\n",
    "}\n",
    "\n",
    "# Make request\n",
    "response = requests.get(url, params=params)\n",
    "data = response.json()\n",
    "\n",
    "# Parse and clean\n",
    "if response.status_code == 200 and \"response\" in data and \"data\" in data[\"response\"]:\n",
    "    df = pd.DataFrame(data[\"response\"][\"data\"])\n",
    "    \n",
    "    # Retain only date and value\n",
    "    df = df[['period', 'value']].rename(columns={'period': 'Date', 'value': 'opec_production'})\n",
    "    df['Date'] = pd.to_datetime(df['Date'])\n",
    "    df['opec_production'] = pd.to_numeric(df['opec_production'], errors='coerce')\n",
    "\n",
    "    # Filter for sync range\n",
    "    df = df[(df['Date'] >= \"2018-01-01\") & (df['Date'] <= \"2024-12-31\")]\n",
    "\n",
    "    # Save to CSV\n",
    "    df.to_csv(\"opec_production_clean.csv\", index=False)\n",
    "    print(\"✅ OPEC production data saved as opec_production_clean.csv\")\n",
    "else:\n",
    "    print(\"❌ Failed to fetch OPEC production data. Here's the response:\")\n",
    "    print(response.text)\n"
   ]
  },
  {
   "cell_type": "code",
   "execution_count": 37,
   "id": "7deccf62-37c5-4c8e-88de-7f59b16898db",
   "metadata": {},
   "outputs": [
    {
     "name": "stdout",
     "output_type": "stream",
     "text": [
      "✅ Inventory data saved as us_crude_inventories_clean.csv\n"
     ]
    }
   ],
   "source": [
    "import requests\n",
    "import pandas as pd\n",
    "\n",
    "# Replace with your actual EIA API Key\n",
    "api_key = \"xHA7KFfRqzWHCp1lWY0Mnmrjj1MkXyL5uYWcYais\"\n",
    "series_id = \"PET.WCESTUS1.W\"\n",
    "\n",
    "# Build URL\n",
    "url = f\"https://api.eia.gov/v2/seriesid/PET.WCESTUS1.W?api_key={api_key}\"\n",
    "\n",
    "# Request data\n",
    "response = requests.get(url)\n",
    "data = response.json()\n",
    "\n",
    "# Process the response\n",
    "if response.status_code == 200 and \"response\" in data and \"data\" in data[\"response\"]:\n",
    "    df = pd.DataFrame(data[\"response\"][\"data\"])\n",
    "    \n",
    "    # Rename and format\n",
    "    df = df[['period', 'value']].rename(columns={'period': 'Date', 'value': 'us_crude_inventories'})\n",
    "    df['Date'] = pd.to_datetime(df['Date'])\n",
    "    df['us_crude_inventories'] = pd.to_numeric(df['us_crude_inventories'], errors='coerce')\n",
    "    \n",
    "    # Filter date range\n",
    "    df = df[(df['Date'] >= \"2018-01-01\") & (df['Date'] <= \"2024-12-31\")]\n",
    "\n",
    "    # Save to file\n",
    "    df.to_csv(\"us_crude_inventories_clean.csv\", index=False)\n",
    "    print(\"✅ Inventory data saved as us_crude_inventories_clean.csv\")\n",
    "\n",
    "else:\n",
    "    print(\"❌ Failed to fetch inventory data. Please check your API key or series ID.\")\n",
    "    print(response.text)"
   ]
  },
  {
   "cell_type": "code",
   "execution_count": 39,
   "id": "088cba6d-cec1-402a-b537-df5396f63520",
   "metadata": {},
   "outputs": [
    {
     "name": "stdout",
     "output_type": "stream",
     "text": [
      "✅ US crude production data saved as us_crude_production_clean.csv\n"
     ]
    }
   ],
   "source": [
    "import requests\n",
    "import pandas as pd\n",
    "\n",
    "# Your EIA API Key\n",
    "api_key = \"xHA7KFfRqzWHCp1lWY0Mnmrjj1MkXyL5uYWcYais\"  # Replace with your actual EIA API key\n",
    "\n",
    "# Series ID for Weekly US Crude Oil Field Production\n",
    "series_id = \"PET.WCRFPUS2.W\"\n",
    "\n",
    "# EIA v2 API Endpoint\n",
    "url = f\"https://api.eia.gov/v2/seriesid/PET.MCRFPUS2.M?api_key={api_key}\"\n",
    "\n",
    "# Parameters\n",
    "params = {\n",
    "    \"api_key\": api_key,\n",
    "    \"start\": \"2018-01-01\",\n",
    "    \"end\": \"2024-12-31\",\n",
    "    \"data\": [\"value\"],\n",
    "    \"frequency\": \"weekly\",\n",
    "    \"sort[0][column]\": \"period\",\n",
    "    \"sort[0][direction]\": \"desc\",\n",
    "    \"offset\": 0,\n",
    "    \"length\": 5000\n",
    "}\n",
    "\n",
    "# Make API call\n",
    "response = requests.get(url, params=params)\n",
    "data = response.json()\n",
    "\n",
    "# Parse and clean\n",
    "if response.status_code == 200 and \"response\" in data and \"data\" in data[\"response\"]:\n",
    "    df = pd.DataFrame(data[\"response\"][\"data\"])\n",
    "\n",
    "    # Retain only period and value columns\n",
    "    df = df[['period', 'value']].rename(columns={'period': 'Date', 'value': 'us_crude_production'})\n",
    "    df['Date'] = pd.to_datetime(df['Date'])\n",
    "    df['us_crude_production'] = pd.to_numeric(df['us_crude_production'], errors='coerce')\n",
    "\n",
    "    # Filter relevant range\n",
    "    df = df[(df['Date'] >= \"2018-01-01\") & (df['Date'] <= \"2024-12-31\")]\n",
    "\n",
    "    # Save to CSV\n",
    "    df.to_csv(\"us_crude_production_clean.csv\", index=False)\n",
    "    print(\"✅ US crude production data saved as us_crude_production_clean.csv\")\n",
    "else:\n",
    "    print(\"❌ Failed to fetch US crude production data. API response:\")\n",
    "    print(response.text)\n"
   ]
  },
  {
   "cell_type": "code",
   "execution_count": null,
   "id": "16d3cdc4-0877-490b-be8e-2540d5120062",
   "metadata": {},
   "outputs": [],
   "source": [
    "pip install requests"
   ]
  },
  {
   "cell_type": "code",
   "execution_count": null,
   "id": "97d79b7e-62f4-4676-b048-1525c6f3d044",
   "metadata": {},
   "outputs": [],
   "source": [
    "!pip install GoogleNews textblob\n",
    "!python -m textblob.download_corpora"
   ]
  },
  {
   "cell_type": "code",
   "execution_count": null,
   "id": "898af478-c0d5-4f86-84cd-4ed24d99c553",
   "metadata": {},
   "outputs": [],
   "source": [
    "!pip install vaderSentiment GoogleNews"
   ]
  },
  {
   "cell_type": "code",
   "execution_count": 41,
   "id": "8185f8fb-2b36-4d62-8075-ed9a0aaa4720",
   "metadata": {},
   "outputs": [
    {
     "name": "stdout",
     "output_type": "stream",
     "text": [
      "✅ Master dataset saved as crude_oil_master_final.csv\n"
     ]
    }
   ],
   "source": [
    "import pandas as pd\n",
    "\n",
    "# Load cleaned datasets\n",
    "wti = pd.read_csv(\"wti_crude_clean.csv\", parse_dates=[\"Date\"])\n",
    "brent = pd.read_csv(\"brent_crude_clean.csv\", parse_dates=[\"Date\"])\n",
    "wti_eia = pd.read_csv(\"wti_crude_eia_clean.csv\", parse_dates=[\"Date\"])\n",
    "cpi = pd.read_csv(\"us_cpi_clean.csv\", parse_dates=[\"Date\"])\n",
    "fed = pd.read_csv(\"us_fed_rate_clean.csv\", parse_dates=[\"Date\"])\n",
    "dxy = pd.read_csv(\"us_dxy_index_clean.csv\", parse_dates=[\"Date\"])\n",
    "opec = pd.read_csv(\"opec_production_clean.csv\", parse_dates=[\"Date\"])\n",
    "inv = pd.read_csv(\"us_crude_inventories_clean.csv\", parse_dates=[\"Date\"])\n",
    "prod = pd.read_csv(\"us_crude_production_clean.csv\", parse_dates=[\"Date\"])\n",
    "sentiment = pd.read_csv(\"google_sentiment_clean.csv\", parse_dates=[\"Date\"])\n",
    "\n",
    "# Merge everything on Date using outer join\n",
    "master_df = wti.copy()\n",
    "for df in [brent, wti_eia, cpi, fed, dxy, opec, inv, prod, sentiment]:\n",
    "    master_df = pd.merge(master_df, df, on=\"Date\", how=\"outer\")\n",
    "\n",
    "# Sort by Date\n",
    "master_df = master_df.sort_values(\"Date\").reset_index(drop=True)\n",
    "\n",
    "# Save the final master file\n",
    "master_df.to_csv(\"crude_oil_master_final.csv\", index=False)\n",
    "print(\"✅ Master dataset saved as crude_oil_master_final.csv\")"
   ]
  },
  {
   "cell_type": "code",
   "execution_count": 43,
   "id": "41e53736-ea84-4205-a797-3e2a3c8e5474",
   "metadata": {},
   "outputs": [
    {
     "name": "stdout",
     "output_type": "stream",
     "text": [
      "✅ Final master dataset cleaned and saved as crude_oil_master_clean_final.csv\n"
     ]
    },
    {
     "name": "stderr",
     "output_type": "stream",
     "text": [
      "/var/folders/8j/pb7f9wf91rq68swpzs9g_b_80000gn/T/ipykernel_62723/4184603603.py:20: FutureWarning: DataFrame.fillna with 'method' is deprecated and will raise in a future version. Use obj.ffill() or obj.bfill() instead.\n",
      "  df[fill_columns] = df[fill_columns].fillna(method='ffill').fillna(method='bfill')\n"
     ]
    }
   ],
   "source": [
    "import pandas as pd\n",
    "\n",
    "# Load current master dataset\n",
    "df = pd.read_csv(\"crude_oil_master_final.csv\", parse_dates=[\"Date\"])\n",
    "\n",
    "# Drop row with null Date\n",
    "df = df[df[\"Date\"].notnull()].copy()\n",
    "\n",
    "# Sort by Date\n",
    "df = df.sort_values(\"Date\").reset_index(drop=True)\n",
    "\n",
    "# Forward-fill known sparse features\n",
    "fill_columns = [\n",
    "    'us_cpi', 'us_fed_rate', 'us_crude_production',\n",
    "    'us_crude_inventories', 'opec_production',\n",
    "    'wti_crude_price', 'brent_crude_price', 'wti_crude_eia_price',\n",
    "    'us_dxy_index', 'Google_Sentiment', 'Google_Sentiment_3d'\n",
    "]\n",
    "\n",
    "df[fill_columns] = df[fill_columns].fillna(method='ffill').fillna(method='bfill')\n",
    "\n",
    "# Final save\n",
    "df.to_csv(\"crude_oil_master_clean_final.csv\", index=False)\n",
    "print(\"✅ Final master dataset cleaned and saved as crude_oil_master_clean_final.csv\")"
   ]
  },
  {
   "cell_type": "code",
   "execution_count": 45,
   "id": "22e7ccf7-82e7-4650-81d8-2fb3d5dc2257",
   "metadata": {},
   "outputs": [],
   "source": [
    "# FEATURE ENGINEERING BEGINS"
   ]
  },
  {
   "cell_type": "code",
   "execution_count": 49,
   "id": "9a1e6348-c6bd-4453-a3c9-62d3af2c43cc",
   "metadata": {},
   "outputs": [
    {
     "name": "stdout",
     "output_type": "stream",
     "text": [
      "✅ 1-day lag features created and saved to crude_oil_master_lag1.csv\n"
     ]
    }
   ],
   "source": [
    "import pandas as pd\n",
    "\n",
    "# Load the clean master dataset\n",
    "df = pd.read_csv(\"crude_oil_master_clean_final.csv\", parse_dates=[\"Date\"])\n",
    "\n",
    "# Create lag-1 features for selected columns\n",
    "lag_features = [\n",
    "    \"wti_crude_price\",\n",
    "    \"brent_crude_price\",\n",
    "    \"Google_Sentiment\",\n",
    "    \"us_dxy_index\"\n",
    "]\n",
    "\n",
    "for col in lag_features:\n",
    "    df[f\"{col}_lag1\"] = df[col].shift(1)\n",
    "\n",
    "# Save updated dataset\n",
    "df.to_csv(\"crude_oil_master_lag1.csv\", index=False)\n",
    "print(\"✅ 1-day lag features created and saved to crude_oil_master_lag1.csv\")"
   ]
  },
  {
   "cell_type": "code",
   "execution_count": 51,
   "id": "fa16d33b-571b-4ed3-9117-636aedcca5fe",
   "metadata": {},
   "outputs": [
    {
     "name": "stdout",
     "output_type": "stream",
     "text": [
      "✅ Percentage change features (1d, 3d, 7d) created and saved to crude_oil_master_pct_change.csv\n"
     ]
    }
   ],
   "source": [
    "import pandas as pd\n",
    "\n",
    "# Load the cleaned master dataset\n",
    "df = pd.read_csv(\"crude_oil_master_lag1.csv\", parse_dates=[\"Date\"])\n",
    "\n",
    "# Create percentage change features for selected columns\n",
    "pct_change_columns = [\n",
    "    \"wti_crude_price\",\n",
    "    \"brent_crude_price\",\n",
    "    \"Google_Sentiment\",\n",
    "    \"us_dxy_index\"\n",
    "]\n",
    "\n",
    "for col in pct_change_columns:\n",
    "    df[f\"{col}_pct_change_1d\"] = df[col].pct_change(1) * 100  # 1-day percent change\n",
    "    df[f\"{col}_pct_change_3d\"] = df[col].pct_change(3) * 100  # 3-day percent change\n",
    "    df[f\"{col}_pct_change_7d\"] = df[col].pct_change(7) * 100  # 7-day percent change\n",
    "\n",
    "# Save updated dataset\n",
    "df.to_csv(\"crude_oil_master_pct_change.csv\", index=False)\n",
    "print(\"✅ Percentage change features (1d, 3d, 7d) created and saved to crude_oil_master_pct_change.csv\")"
   ]
  },
  {
   "cell_type": "code",
   "execution_count": 76,
   "id": "6d176035-c36e-4c24-aa47-f60800948939",
   "metadata": {},
   "outputs": [
    {
     "name": "stdout",
     "output_type": "stream",
     "text": [
      "✅ Saved as crude_oil_master_clean_rolling_averages_final.csv\n"
     ]
    },
    {
     "name": "stderr",
     "output_type": "stream",
     "text": [
      "/var/folders/8j/pb7f9wf91rq68swpzs9g_b_80000gn/T/ipykernel_62723/2357966593.py:21: FutureWarning: DataFrame.fillna with 'method' is deprecated and will raise in a future version. Use obj.ffill() or obj.bfill() instead.\n",
      "  df = df.fillna(method='ffill')\n",
      "/var/folders/8j/pb7f9wf91rq68swpzs9g_b_80000gn/T/ipykernel_62723/2357966593.py:31: FutureWarning: DataFrame.fillna with 'method' is deprecated and will raise in a future version. Use obj.ffill() or obj.bfill() instead.\n",
      "  df[pct_change_columns] = df[pct_change_columns].fillna(method='ffill')\n"
     ]
    }
   ],
   "source": [
    "import pandas as pd\n",
    "\n",
    "# Load the dataset\n",
    "df = pd.read_csv(\"crude_oil_master_pct_change.csv\", parse_dates=[\"Date\"])\n",
    "\n",
    "# Define columns to apply rolling averages\n",
    "rolling_columns = [\n",
    "    \"wti_crude_price\", \n",
    "    \"brent_crude_price\", \n",
    "    \"Google_Sentiment\", \n",
    "    \"us_dxy_index\"\n",
    "]\n",
    "\n",
    "# Calculate rolling averages (7-day and 30-day windows)\n",
    "for col in rolling_columns:\n",
    "    df[f\"{col}_rolling_7d\"] = df[col].rolling(window=7).mean()  # 7-day rolling average\n",
    "    df[f\"{col}_rolling_30d\"] = df[col].rolling(window=30).mean()  # 30-day rolling average\n",
    "\n",
    "# Handle NaN values for the first few rows\n",
    "# Forward-fill NaN values only for columns where the data is required\n",
    "df = df.fillna(method='ffill')\n",
    "\n",
    "# Handle percent change columns, forward-fill where necessary (for pct_change)\n",
    "pct_change_columns = [\n",
    "    \"wti_crude_price_pct_change_1d\", \n",
    "    \"brent_crude_price_pct_change_1d\", \n",
    "    \"Google_Sentiment_pct_change_1d\",\n",
    "    \"us_dxy_index_pct_change_1d\"\n",
    "]\n",
    "\n",
    "df[pct_change_columns] = df[pct_change_columns].fillna(method='ffill')\n",
    "\n",
    "# Save the cleaned and updated dataset\n",
    "df.to_csv(\"crude_oil_master_clean_rolling_averages_final.csv\", index=False)\n",
    "print(\"✅ Saved as crude_oil_master_clean_rolling_averages_final.csv\")"
   ]
  },
  {
   "cell_type": "code",
   "execution_count": 78,
   "id": "ed536eec-5969-41cb-8d3d-584428b8b565",
   "metadata": {},
   "outputs": [
    {
     "name": "stdout",
     "output_type": "stream",
     "text": [
      "✅ Volatility features (7d, 30d) created and saved to crude_oil_master_volatility.csv\n"
     ]
    }
   ],
   "source": [
    "import pandas as pd\n",
    "\n",
    "# Load the cleaned dataset with rolling averages and pct change features\n",
    "df = pd.read_csv(\"crude_oil_master_clean_rolling_averages_final.csv\", parse_dates=[\"Date\"])\n",
    "\n",
    "# Define columns to apply volatility (rolling standard deviation)\n",
    "volatility_columns = [\n",
    "    \"wti_crude_price\",\n",
    "    \"brent_crude_price\",\n",
    "    \"Google_Sentiment\",\n",
    "    \"us_dxy_index\"\n",
    "]\n",
    "\n",
    "# Create 7-day and 30-day rolling standard deviations (volatility)\n",
    "for col in volatility_columns:\n",
    "    df[f\"{col}_volatility_7d\"] = df[col].rolling(window=7).std()  # 7-day volatility\n",
    "    df[f\"{col}_volatility_30d\"] = df[col].rolling(window=30).std()  # 30-day volatility\n",
    "\n",
    "# Save the updated dataset with volatility features\n",
    "df.to_csv(\"crude_oil_master_volatility.csv\", index=False)\n",
    "print(\"✅ Volatility features (7d, 30d) created and saved to crude_oil_master_volatility.csv\")"
   ]
  },
  {
   "cell_type": "code",
   "execution_count": 80,
   "id": "692585c4-1ff1-4334-bcb5-f866bdf3073d",
   "metadata": {},
   "outputs": [
    {
     "name": "stdout",
     "output_type": "stream",
     "text": [
      "✅ Volatility features cleaned and saved to crude_oil_master_volatility_final.csv\n"
     ]
    },
    {
     "name": "stderr",
     "output_type": "stream",
     "text": [
      "/var/folders/8j/pb7f9wf91rq68swpzs9g_b_80000gn/T/ipykernel_62723/177203885.py:21: FutureWarning: DataFrame.fillna with 'method' is deprecated and will raise in a future version. Use obj.ffill() or obj.bfill() instead.\n",
      "  df = df.fillna(method='ffill')\n"
     ]
    }
   ],
   "source": [
    "import pandas as pd\n",
    "\n",
    "# Load the dataset\n",
    "df = pd.read_csv(\"crude_oil_master_volatility.csv\", parse_dates=[\"Date\"])\n",
    "\n",
    "# Define the columns that need volatility calculation\n",
    "volatility_columns = [\n",
    "    \"wti_crude_price\",\n",
    "    \"brent_crude_price\",\n",
    "    \"Google_Sentiment\",\n",
    "    \"us_dxy_index\"\n",
    "]\n",
    "\n",
    "# Forward-fill NaN values for volatility columns, starting after the first few rows\n",
    "# Apply forward fill from row 31 onwards (i.e., 30 days window filled)\n",
    "for col in volatility_columns:\n",
    "    df[f\"{col}_volatility_7d\"] = df[col].rolling(window=7).std()\n",
    "    df[f\"{col}_volatility_30d\"] = df[col].rolling(window=30).std()\n",
    "\n",
    "# Fill NaN values for rows after the first 30 days\n",
    "df = df.fillna(method='ffill')\n",
    "\n",
    "# Save the final cleaned dataset with volatility features\n",
    "df.to_csv(\"crude_oil_master_volatility_final.csv\", index=False)\n",
    "print(\"✅ Volatility features cleaned and saved to crude_oil_master_volatility_final.csv\")"
   ]
  },
  {
   "cell_type": "code",
   "execution_count": 82,
   "id": "cbebc2d0-38f0-466a-8610-1e1c17139736",
   "metadata": {},
   "outputs": [
    {
     "name": "stdout",
     "output_type": "stream",
     "text": [
      "✅ Advanced features created and saved to crude_oil_master_advanced_features.csv\n"
     ]
    }
   ],
   "source": [
    "import pandas as pd\n",
    "\n",
    "# Load the dataset with volatility features\n",
    "df = pd.read_csv(\"crude_oil_master_volatility_final.csv\", parse_dates=[\"Date\"])\n",
    "\n",
    "# 1. Lagged Volatility Features (1-day, 3-day lag)\n",
    "lag_volatility_columns = [\n",
    "    \"wti_crude_price_volatility_7d\", \n",
    "    \"brent_crude_price_volatility_7d\", \n",
    "    \"Google_Sentiment_volatility_7d\", \n",
    "    \"us_dxy_index_volatility_7d\"\n",
    "]\n",
    "\n",
    "for col in lag_volatility_columns:\n",
    "    df[f\"{col}_lag1\"] = df[col].shift(1)  # 1-day lag\n",
    "    df[f\"{col}_lag3\"] = df[col].shift(3)  # 3-day lag\n",
    "\n",
    "# 2. Sentiment-Weighted Oil Price Features (Weighted Sentiment)\n",
    "df['sentiment_adjusted_wti'] = df['wti_crude_price'] * (df['Google_Sentiment_rolling_7d'] / 100)\n",
    "\n",
    "# 3. Interaction Feature: Oil Price * Sentiment (Shows interaction between these factors)\n",
    "df['oil_sentiment_interaction'] = df['wti_crude_price'] * df['Google_Sentiment']\n",
    "\n",
    "# 4. Interaction Feature: Sentiment vs. DXY Index (Shows interaction with US Dollar)\n",
    "df['sentiment_vs_dxy'] = df['Google_Sentiment'] * df['us_dxy_index']\n",
    "\n",
    "# Save the final dataset with the advanced features\n",
    "df.to_csv(\"crude_oil_master_advanced_features.csv\", index=False)\n",
    "print(\"✅ Advanced features created and saved to crude_oil_master_advanced_features.csv\")"
   ]
  },
  {
   "cell_type": "code",
   "execution_count": 84,
   "id": "be405c05-57c9-4e77-ac94-f8112f089a11",
   "metadata": {},
   "outputs": [
    {
     "data": {
      "text/plain": [
       "wti_crude_price_lag1                     1\n",
       "brent_crude_price_lag1                   1\n",
       "Google_Sentiment_lag1                    1\n",
       "us_dxy_index_lag1                        1\n",
       "wti_crude_price_pct_change_1d            1\n",
       "wti_crude_price_pct_change_3d            3\n",
       "wti_crude_price_pct_change_7d            7\n",
       "brent_crude_price_pct_change_1d          1\n",
       "brent_crude_price_pct_change_3d          3\n",
       "brent_crude_price_pct_change_7d          7\n",
       "Google_Sentiment_pct_change_1d           1\n",
       "Google_Sentiment_pct_change_3d           3\n",
       "Google_Sentiment_pct_change_7d           7\n",
       "us_dxy_index_pct_change_1d               1\n",
       "us_dxy_index_pct_change_3d               3\n",
       "us_dxy_index_pct_change_7d               7\n",
       "wti_crude_price_rolling_7d               6\n",
       "wti_crude_price_rolling_30d             29\n",
       "brent_crude_price_rolling_7d             6\n",
       "brent_crude_price_rolling_30d           29\n",
       "Google_Sentiment_rolling_7d              6\n",
       "Google_Sentiment_rolling_30d            29\n",
       "us_dxy_index_rolling_7d                  6\n",
       "us_dxy_index_rolling_30d                29\n",
       "wti_crude_price_volatility_7d            6\n",
       "wti_crude_price_volatility_30d          29\n",
       "brent_crude_price_volatility_7d          6\n",
       "brent_crude_price_volatility_30d        29\n",
       "Google_Sentiment_volatility_7d           6\n",
       "Google_Sentiment_volatility_30d         29\n",
       "us_dxy_index_volatility_7d               6\n",
       "us_dxy_index_volatility_30d             29\n",
       "wti_crude_price_volatility_7d_lag1       7\n",
       "wti_crude_price_volatility_7d_lag3       9\n",
       "brent_crude_price_volatility_7d_lag1     7\n",
       "brent_crude_price_volatility_7d_lag3     9\n",
       "Google_Sentiment_volatility_7d_lag1      7\n",
       "Google_Sentiment_volatility_7d_lag3      9\n",
       "us_dxy_index_volatility_7d_lag1          7\n",
       "us_dxy_index_volatility_7d_lag3          9\n",
       "sentiment_adjusted_wti                   6\n",
       "dtype: int64"
      ]
     },
     "execution_count": 84,
     "metadata": {},
     "output_type": "execute_result"
    }
   ],
   "source": [
    "import pandas as pd\n",
    "df = pd.read_csv(\"crude_oil_master_advanced_features.csv\", parse_dates = [\"Date\"])\n",
    "missing_values = df.isnull().sum()\n",
    "missing_values[missing_values > 0]"
   ]
  },
  {
   "cell_type": "code",
   "execution_count": 88,
   "id": "4d213eec-dfe1-4777-a7d0-041d67c42cef",
   "metadata": {},
   "outputs": [
    {
     "name": "stdout",
     "output_type": "stream",
     "text": [
      "File saved to crude_oil_master_final_clean.csv\n"
     ]
    },
    {
     "name": "stderr",
     "output_type": "stream",
     "text": [
      "/var/folders/8j/pb7f9wf91rq68swpzs9g_b_80000gn/T/ipykernel_62723/1527465304.py:3: FutureWarning: DataFrame.fillna with 'method' is deprecated and will raise in a future version. Use obj.ffill() or obj.bfill() instead.\n",
      "  df = df.fillna(method = 'ffill')\n"
     ]
    }
   ],
   "source": [
    "import pandas as pd\n",
    "df = pd.read_csv(\"crude_oil_master_advanced_features.csv\", parse_dates =[\"Date\"])\n",
    "df = df.fillna(method = 'ffill')\n",
    "df.to_csv(\"crude_oil_master_final_clean.csv\", index = False)\n",
    "print(\"File saved to crude_oil_master_final_clean.csv\")"
   ]
  },
  {
   "cell_type": "code",
   "execution_count": 5,
   "id": "08525d9b-cc45-4dc3-adf3-47eb236af99c",
   "metadata": {},
   "outputs": [
    {
     "name": "stdout",
     "output_type": "stream",
     "text": [
      "Training set size: (2045, 53)\n",
      "Test set size: (512, 53)\n"
     ]
    }
   ],
   "source": [
    "import pandas as pd\n",
    "from sklearn.model_selection import train_test_split\n",
    "\n",
    "# Load the cleaned dataset\n",
    "df = pd.read_csv(\"crude_oil_master_final_clean_1.csv\", parse_dates=[\"Date\"])\n",
    "\n",
    "# Define the target variable (e.g., 'wti_crude_price')\n",
    "target_column = 'wti_crude_price'\n",
    "\n",
    "# Drop the target column and 'Date' column for features\n",
    "X = df.drop(columns=[\"Date\", target_column])\n",
    "y = df[target_column]\n",
    "\n",
    "# Time-based train-test split (80% train, 20% test)\n",
    "train_size = int(len(df) * 0.8)\n",
    "\n",
    "X_train = X[:train_size]\n",
    "y_train = y[:train_size]\n",
    "X_test = X[train_size:]\n",
    "y_test = y[train_size:]\n",
    "\n",
    "# Print the shape of the train and test sets\n",
    "print(f\"Training set size: {X_train.shape}\")\n",
    "print(f\"Test set size: {X_test.shape}\")"
   ]
  },
  {
   "cell_type": "code",
   "execution_count": 11,
   "id": "d6fef246-de78-45cb-9eb7-8f4c85d2560b",
   "metadata": {},
   "outputs": [
    {
     "name": "stdout",
     "output_type": "stream",
     "text": [
      "scaled feature set size: (2557, 53)\n"
     ]
    }
   ],
   "source": [
    "from sklearn.preprocessing import StandardScaler\n",
    "df = pd.read_csv(\"crude_oil_master_final_clean_1.csv\" , parse_dates =[\"Date\"])\n",
    "#target variable\n",
    "target_column = 'wti_crude_price'\n",
    "\n",
    "#Dropping the target column and 'Date' column for features\n",
    "X = df.drop(columns =[\"Date\", target_column])\n",
    "y = df[target_column]\n",
    "# initialise scaler\n",
    "\n",
    "scaler = StandardScaler()\n",
    "\n",
    "#Scale the features\n",
    "X_scaled = scaler.fit_transform(X)\n",
    "#Scaled features back to frame\n",
    "\n",
    "X_scaled_df = pd.DataFrame(X_scaled, columns = X.columns)\n",
    "\n",
    "#Save Scaled Features\n",
    "X_scaled_df.to_csv(\"X_scaled.csv\", index = False)\n",
    "y.to_csv(\"y_target.csv\", index = False)\n",
    "\n",
    "#print the shape of the scaled data\n",
    "print(f\"scaled feature set size: {X_scaled_df.shape}\")"
   ]
  },
  {
   "cell_type": "code",
   "execution_count": 21,
   "id": "1ab37ded-fefd-4d18-a92b-75e70f02159b",
   "metadata": {},
   "outputs": [
    {
     "name": "stdout",
     "output_type": "stream",
     "text": [
      " RMSE: 0.15\n",
      " R^2 Score: 0.9994\n"
     ]
    },
    {
     "name": "stderr",
     "output_type": "stream",
     "text": [
      "/opt/anaconda3/lib/python3.12/site-packages/sklearn/metrics/_regression.py:483: FutureWarning: 'squared' is deprecated in version 1.4 and will be removed in 1.6. To calculate the root mean squared error, use the function'root_mean_squared_error'.\n",
      "  warnings.warn(\n"
     ]
    }
   ],
   "source": [
    "# Model Training (Random Forest Model)\n",
    "import pandas as pd\n",
    "from sklearn.ensemble import RandomForestRegressor\n",
    "from sklearn.metrics import root_mean_squared_error, r2_score\n",
    "\n",
    "#Loading the scaled dataset and target variable\n",
    "X = pd.read_csv(\"X_scaled.csv\")\n",
    "y = pd.read_csv(\"y_target.csv\").squeeze()\n",
    "\n",
    "# train test split\n",
    "train_size = int(len(X) * 0.8)\n",
    "X_train, X_test = X[:train_size], X[train_size:]\n",
    "y_train, y_test = y[:train_size], y[train_size:]\n",
    "\n",
    "#Initialising and training the random forest model\n",
    "rf_model = RandomForestRegressor(n_estimators = 100, random_state = 42)\n",
    "rf_model.fit(X_train, y_train)\n",
    "\n",
    "#make prediction\n",
    "y_pred = rf_model.predict(X_test)\n",
    "\n",
    "#Evaluate Model\n",
    "rmse = mean_squared_error(y_test, y_pred, squared = False)\n",
    "r2 = r2_score(y_test, y_pred)\n",
    "\n",
    "print(f\" RMSE: {rmse:.2f}\")\n",
    "print(f\" R^2 Score: {r2:.4f}\")"
   ]
  },
  {
   "cell_type": "code",
   "execution_count": 25,
   "id": "3f937747-fb07-43c8-b2ad-2464e897ddff",
   "metadata": {},
   "outputs": [
    {
     "name": "stdout",
     "output_type": "stream",
     "text": [
      "Requirement already satisfied: xgboost in /opt/anaconda3/lib/python3.12/site-packages (3.0.0)\n",
      "Requirement already satisfied: numpy in /opt/anaconda3/lib/python3.12/site-packages (from xgboost) (1.26.4)\n",
      "Requirement already satisfied: scipy in /opt/anaconda3/lib/python3.12/site-packages (from xgboost) (1.13.1)\n"
     ]
    }
   ],
   "source": [
    "#Model Training with XGBoost\n",
    "!pip install xgboost"
   ]
  },
  {
   "cell_type": "code",
   "execution_count": 16,
   "id": "d312bfca-283a-4439-9046-448798de3f5f",
   "metadata": {},
   "outputs": [],
   "source": [
    "#importing XGBoost\n",
    "import pandas as pd\n",
    "from xgboost import XGBRegressor\n",
    "from sklearn.metrics import mean_squared_error, r2_score\n",
    "\n",
    "#load the scaled feature set and target\n",
    "X = pd.read_csv(\"X_scaled.csv\")\n",
    "y = pd.read_csv(\"y_target.csv\").squeeze()\n",
    "\n",
    "#time based train split(80/20)\n",
    "train_size = int(len(X) * 0.8)\n",
    "X_train, X_test = X[:train_size], X[train_size:]\n",
    "y_train, y_test = y[:train_size], y[train_size:]\n"
   ]
  },
  {
   "cell_type": "code",
   "execution_count": 18,
   "id": "120b3956-6e64-4e90-8877-983b2b0da2ae",
   "metadata": {},
   "outputs": [
    {
     "name": "stdout",
     "output_type": "stream",
     "text": [
      "Model Training Complete\n"
     ]
    }
   ],
   "source": [
    "#initialising XGBoost Regressor\n",
    "xgb_model = XGBRegressor(\n",
    "    n_estimators = 100,\n",
    "    learning_rate = 0.1,\n",
    "    max_depth = 6,\n",
    "    subsample = 0.8,\n",
    "    colsample_bytree = 0.8,\n",
    "    random_state = 42,\n",
    "    verbosity = 1\n",
    ")\n",
    "xgb_model.fit(X_train, y_train)\n",
    "\n",
    "print(\"Model Training Complete\")"
   ]
  },
  {
   "cell_type": "code",
   "execution_count": 41,
   "id": "f881d37f-4e56-4d93-ac84-ba533b28411d",
   "metadata": {},
   "outputs": [
    {
     "name": "stdout",
     "output_type": "stream",
     "text": [
      " XGBoost RMSE :  0.2107\n",
      " XGBoost R^2 :  0.9988\n"
     ]
    },
    {
     "name": "stderr",
     "output_type": "stream",
     "text": [
      "/opt/anaconda3/lib/python3.12/site-packages/sklearn/metrics/_regression.py:483: FutureWarning: 'squared' is deprecated in version 1.4 and will be removed in 1.6. To calculate the root mean squared error, use the function'root_mean_squared_error'.\n",
      "  warnings.warn(\n"
     ]
    }
   ],
   "source": [
    "#predict on the test set \n",
    "y_pred_xgb = xgb_model.predict(X_test)\n",
    "\n",
    "#evaluate\n",
    "rmse_xgb = mean_squared_error(y_test, y_pred_xgb, squared = False)\n",
    "r2_xgb = r2_score(y_test, y_pred_xgb)\n",
    "\n",
    "print(f\" XGBoost RMSE : {rmse_xgb: .4f}\")\n",
    "print(f\" XGBoost R^2 : {r2_xgb: .4f}\")"
   ]
  },
  {
   "cell_type": "code",
   "execution_count": 45,
   "id": "fbacb542-68c6-4be6-9974-c3fea4844d1d",
   "metadata": {},
   "outputs": [
    {
     "name": "stdout",
     "output_type": "stream",
     "text": [
      "File saved as 'xgb_rf_predictions_output.csv'\n"
     ]
    }
   ],
   "source": [
    "#Exporting Prediction from both the models\n",
    "import pandas as pd\n",
    "import numpy as np\n",
    "from sklearn.inspection import permutation_importance\n",
    "\n",
    "# Load datasets\n",
    "df = pd.read_csv(\"crude_oil_master_final_clean_1.csv\", parse_dates=[\"Date\"])\n",
    "X = pd.read_csv(\"X_scaled.csv\")\n",
    "y = pd.read_csv(\"y_target.csv\").squeeze()\n",
    "\n",
    "# Define time-based test split\n",
    "train_size = int(len(X) * 0.8)\n",
    "X_test = X.iloc[train_size:]\n",
    "y_test = y.iloc[train_size:]\n",
    "date_test = df[\"Date\"].iloc[train_size:].reset_index(drop=True)\n",
    "\n",
    "# Make predictions\n",
    "rf_preds = rf_model.predict(X_test)\n",
    "xgb_preds = xgb_model.predict(X_test)\n",
    "\n",
    "# Get top 5 most important features from Random Forest\n",
    "importances = rf_model.feature_importances_\n",
    "top5_indices = np.argsort(importances)[-5:][::-1]  # top 5 indices in descending order\n",
    "top5_features = X.columns[top5_indices]\n",
    "\n",
    "# Compile output\n",
    "output_df = pd.DataFrame({\n",
    "    \"Date\": date_test,\n",
    "    \"Actual_WTI\": y_test.reset_index(drop=True),\n",
    "    \"Predicted_WTI_RF\": rf_preds,\n",
    "    \"Predicted_WTI_XGB\": xgb_preds\n",
    "})\n",
    "\n",
    "# Add top 5 features from X (not original df, as X is scaled)\n",
    "for feature in top5_features:\n",
    "    output_df[feature] = X[feature].iloc[train_size:].reset_index(drop=True)\n",
    "\n",
    "# Save to CSV\n",
    "output_df.to_csv(\"xgb_rf_predictions_output.csv\", index=False)\n",
    "print(\"File saved as 'xgb_rf_predictions_output.csv'\")"
   ]
  },
  {
   "cell_type": "code",
   "execution_count": 49,
   "id": "d54de379-b07b-4145-80c6-684d29c87175",
   "metadata": {},
   "outputs": [
    {
     "data": {
      "image/png": "[encoded data removed]",
      "text/plain": [
       "<Figure size 1400x600 with 1 Axes>"
      ]
     },
     "metadata": {},
     "output_type": "display_data"
    }
   ],
   "source": [
    "import pandas as pd\n",
    "import matplotlib.pyplot as plt\n",
    "\n",
    "# Loading exported predictions\n",
    "df = pd.read_csv(\"xgb_rf_predictions_output.csv\", parse_dates=[\"Date\"])\n",
    "\n",
    "# Plot Actual vs Predicted\n",
    "plt.figure(figsize=(14, 6))\n",
    "plt.plot(df[\"Date\"], df[\"Actual_WTI\"], label=\"Actual WTI\", color='black', linewidth=2)\n",
    "plt.plot(df[\"Date\"], df[\"Predicted_WTI_RF\"], label=\"Random Forest Prediction\", linestyle='--')\n",
    "plt.plot(df[\"Date\"], df[\"Predicted_WTI_XGB\"], label=\"XGBoost Prediction\", linestyle='--')\n",
    "\n",
    "plt.title(\"WTI Crude Oil Price Forecasting: Actual vs. Predicted\")\n",
    "plt.xlabel(\"Date\")\n",
    "plt.ylabel(\"WTI Price ($)\")\n",
    "plt.legend()\n",
    "plt.grid(True)\n",
    "plt.tight_layout()\n",
    "plt.show()"
   ]
  },
  {
   "cell_type": "code",
   "execution_count": 53,
   "id": "e877222c-149f-4e0f-a2e8-231551abc27c",
   "metadata": {},
   "outputs": [
    {
     "name": "stdout",
     "output_type": "stream",
     "text": [
      "file updated with error columns for tableau\n"
     ]
    }
   ],
   "source": [
    "#error columns pre-processing\n",
    "import pandas as pd\n",
    "df = pd.read_csv(\"xgb_rf_predictions_output.csv\", parse_dates = [\"Date\"])\n",
    "df[\"RF_Error\"] = (df[\"Actual_WTI\"] - df[\"Predicted_WTI_RF\"]).abs()\n",
    "df[\"XGB_Error\"] = (df[\"Actual_WTI\"] - df[\"Predicted_WTI_XGB\"]).abs()\n",
    "df.to_csv(\"xgb_rf_predictions_with_errors.csv\", index = False)\n",
    "print(\"file updated with error columns for tableau\")"
   ]
  },
  {
   "cell_type": "code",
   "execution_count": 20,
   "id": "95fdee36-473c-493e-bc43-bb931cdd250c",
   "metadata": {},
   "outputs": [
    {
     "data": {
      "text/html": [
       "<style>#sk-container-id-1 {\n",
       "  /* Definition of color scheme common for light and dark mode */\n",
       "  --sklearn-color-text: black;\n",
       "  --sklearn-color-line: gray;\n",
       "  /* Definition of color scheme for unfitted estimators */\n",
       "  --sklearn-color-unfitted-level-0: #fff5e6;\n",
       "  --sklearn-color-unfitted-level-1: #f6e4d2;\n",
       "  --sklearn-color-unfitted-level-2: #ffe0b3;\n",
       "  --sklearn-color-unfitted-level-3: chocolate;\n",
       "  /* Definition of color scheme for fitted estimators */\n",
       "  --sklearn-color-fitted-level-0: #f0f8ff;\n",
       "  --sklearn-color-fitted-level-1: #d4ebff;\n",
       "  --sklearn-color-fitted-level-2: #b3dbfd;\n",
       "  --sklearn-color-fitted-level-3: cornflowerblue;\n",
       "\n",
       "  /* Specific color for light theme */\n",
       "  --sklearn-color-text-on-default-background: var(--sg-text-color, var(--theme-code-foreground, var(--jp-content-font-color1, black)));\n",
       "  --sklearn-color-background: var(--sg-background-color, var(--theme-background, var(--jp-layout-color0, white)));\n",
       "  --sklearn-color-border-box: var(--sg-text-color, var(--theme-code-foreground, var(--jp-content-font-color1, black)));\n",
       "  --sklearn-color-icon: #696969;\n",
       "\n",
       "  @media (prefers-color-scheme: dark) {\n",
       "    /* Redefinition of color scheme for dark theme */\n",
       "    --sklearn-color-text-on-default-background: var(--sg-text-color, var(--theme-code-foreground, var(--jp-content-font-color1, white)));\n",
       "    --sklearn-color-background: var(--sg-background-color, var(--theme-background, var(--jp-layout-color0, #111)));\n",
       "    --sklearn-color-border-box: var(--sg-text-color, var(--theme-code-foreground, var(--jp-content-font-color1, white)));\n",
       "    --sklearn-color-icon: #878787;\n",
       "  }\n",
       "}\n",
       "\n",
       "#sk-container-id-1 {\n",
       "  color: var(--sklearn-color-text);\n",
       "}\n",
       "\n",
       "#sk-container-id-1 pre {\n",
       "  padding: 0;\n",
       "}\n",
       "\n",
       "#sk-container-id-1 input.sk-hidden--visually {\n",
       "  border: 0;\n",
       "  clip: rect(1px 1px 1px 1px);\n",
       "  clip: rect(1px, 1px, 1px, 1px);\n",
       "  height: 1px;\n",
       "  margin: -1px;\n",
       "  overflow: hidden;\n",
       "  padding: 0;\n",
       "  position: absolute;\n",
       "  width: 1px;\n",
       "}\n",
       "\n",
       "#sk-container-id-1 div.sk-dashed-wrapped {\n",
       "  border: 1px dashed var(--sklearn-color-line);\n",
       "  margin: 0 0.4em 0.5em 0.4em;\n",
       "  box-sizing: border-box;\n",
       "  padding-bottom: 0.4em;\n",
       "  background-color: var(--sklearn-color-background);\n",
       "}\n",
       "\n",
       "#sk-container-id-1 div.sk-container {\n",
       "  /* jupyter's `normalize.less` sets `[hidden] { display: none; }`\n",
       "     but bootstrap.min.css set `[hidden] { display: none !important; }`\n",
       "     so we also need the `!important` here to be able to override the\n",
       "     default hidden behavior on the sphinx rendered scikit-learn.org.\n",
       "     See: https://github.com/scikit-learn/scikit-learn/issues/21755 */\n",
       "  display: inline-block !important;\n",
       "  position: relative;\n",
       "}\n",
       "\n",
       "#sk-container-id-1 div.sk-text-repr-fallback {\n",
       "  display: none;\n",
       "}\n",
       "\n",
       "div.sk-parallel-item,\n",
       "div.sk-serial,\n",
       "div.sk-item {\n",
       "  /* draw centered vertical line to link estimators */\n",
       "  background-image: linear-gradient(var(--sklearn-color-text-on-default-background), var(--sklearn-color-text-on-default-background));\n",
       "  background-size: 2px 100%;\n",
       "  background-repeat: no-repeat;\n",
       "  background-position: center center;\n",
       "}\n",
       "\n",
       "/* Parallel-specific style estimator block */\n",
       "\n",
       "#sk-container-id-1 div.sk-parallel-item::after {\n",
       "  content: \"\";\n",
       "  width: 100%;\n",
       "  border-bottom: 2px solid var(--sklearn-color-text-on-default-background);\n",
       "  flex-grow: 1;\n",
       "}\n",
       "\n",
       "#sk-container-id-1 div.sk-parallel {\n",
       "  display: flex;\n",
       "  align-items: stretch;\n",
       "  justify-content: center;\n",
       "  background-color: var(--sklearn-color-background);\n",
       "  position: relative;\n",
       "}\n",
       "\n",
       "#sk-container-id-1 div.sk-parallel-item {\n",
       "  display: flex;\n",
       "  flex-direction: column;\n",
       "}\n",
       "\n",
       "#sk-container-id-1 div.sk-parallel-item:first-child::after {\n",
       "  align-self: flex-end;\n",
       "  width: 50%;\n",
       "}\n",
       "\n",
       "#sk-container-id-1 div.sk-parallel-item:last-child::after {\n",
       "  align-self: flex-start;\n",
       "  width: 50%;\n",
       "}\n",
       "\n",
       "#sk-container-id-1 div.sk-parallel-item:only-child::after {\n",
       "  width: 0;\n",
       "}\n",
       "\n",
       "/* Serial-specific style estimator block */\n",
       "\n",
       "#sk-container-id-1 div.sk-serial {\n",
       "  display: flex;\n",
       "  flex-direction: column;\n",
       "  align-items: center;\n",
       "  background-color: var(--sklearn-color-background);\n",
       "  padding-right: 1em;\n",
       "  padding-left: 1em;\n",
       "}\n",
       "\n",
       "\n",
       "/* Toggleable style: style used for estimator/Pipeline/ColumnTransformer box that is\n",
       "clickable and can be expanded/collapsed.\n",
       "- Pipeline and ColumnTransformer use this feature and define the default style\n",
       "- Estimators will overwrite some part of the style using the `sk-estimator` class\n",
       "*/\n",
       "\n",
       "/* Pipeline and ColumnTransformer style (default) */\n",
       "\n",
       "#sk-container-id-1 div.sk-toggleable {\n",
       "  /* Default theme specific background. It is overwritten whether we have a\n",
       "  specific estimator or a Pipeline/ColumnTransformer */\n",
       "  background-color: var(--sklearn-color-background);\n",
       "}\n",
       "\n",
       "/* Toggleable label */\n",
       "#sk-container-id-1 label.sk-toggleable__label {\n",
       "  cursor: pointer;\n",
       "  display: block;\n",
       "  width: 100%;\n",
       "  margin-bottom: 0;\n",
       "  padding: 0.5em;\n",
       "  box-sizing: border-box;\n",
       "  text-align: center;\n",
       "}\n",
       "\n",
       "#sk-container-id-1 label.sk-toggleable__label-arrow:before {\n",
       "  /* Arrow on the left of the label */\n",
       "  content: \"▸\";\n",
       "  float: left;\n",
       "  margin-right: 0.25em;\n",
       "  color: var(--sklearn-color-icon);\n",
       "}\n",
       "\n",
       "#sk-container-id-1 label.sk-toggleable__label-arrow:hover:before {\n",
       "  color: var(--sklearn-color-text);\n",
       "}\n",
       "\n",
       "/* Toggleable content - dropdown */\n",
       "\n",
       "#sk-container-id-1 div.sk-toggleable__content {\n",
       "  max-height: 0;\n",
       "  max-width: 0;\n",
       "  overflow: hidden;\n",
       "  text-align: left;\n",
       "  /* unfitted */\n",
       "  background-color: var(--sklearn-color-unfitted-level-0);\n",
       "}\n",
       "\n",
       "#sk-container-id-1 div.sk-toggleable__content.fitted {\n",
       "  /* fitted */\n",
       "  background-color: var(--sklearn-color-fitted-level-0);\n",
       "}\n",
       "\n",
       "#sk-container-id-1 div.sk-toggleable__content pre {\n",
       "  margin: 0.2em;\n",
       "  border-radius: 0.25em;\n",
       "  color: var(--sklearn-color-text);\n",
       "  /* unfitted */\n",
       "  background-color: var(--sklearn-color-unfitted-level-0);\n",
       "}\n",
       "\n",
       "#sk-container-id-1 div.sk-toggleable__content.fitted pre {\n",
       "  /* unfitted */\n",
       "  background-color: var(--sklearn-color-fitted-level-0);\n",
       "}\n",
       "\n",
       "#sk-container-id-1 input.sk-toggleable__control:checked~div.sk-toggleable__content {\n",
       "  /* Expand drop-down */\n",
       "  max-height: 200px;\n",
       "  max-width: 100%;\n",
       "  overflow: auto;\n",
       "}\n",
       "\n",
       "#sk-container-id-1 input.sk-toggleable__control:checked~label.sk-toggleable__label-arrow:before {\n",
       "  content: \"▾\";\n",
       "}\n",
       "\n",
       "/* Pipeline/ColumnTransformer-specific style */\n",
       "\n",
       "#sk-container-id-1 div.sk-label input.sk-toggleable__control:checked~label.sk-toggleable__label {\n",
       "  color: var(--sklearn-color-text);\n",
       "  background-color: var(--sklearn-color-unfitted-level-2);\n",
       "}\n",
       "\n",
       "#sk-container-id-1 div.sk-label.fitted input.sk-toggleable__control:checked~label.sk-toggleable__label {\n",
       "  background-color: var(--sklearn-color-fitted-level-2);\n",
       "}\n",
       "\n",
       "/* Estimator-specific style */\n",
       "\n",
       "/* Colorize estimator box */\n",
       "#sk-container-id-1 div.sk-estimator input.sk-toggleable__control:checked~label.sk-toggleable__label {\n",
       "  /* unfitted */\n",
       "  background-color: var(--sklearn-color-unfitted-level-2);\n",
       "}\n",
       "\n",
       "#sk-container-id-1 div.sk-estimator.fitted input.sk-toggleable__control:checked~label.sk-toggleable__label {\n",
       "  /* fitted */\n",
       "  background-color: var(--sklearn-color-fitted-level-2);\n",
       "}\n",
       "\n",
       "#sk-container-id-1 div.sk-label label.sk-toggleable__label,\n",
       "#sk-container-id-1 div.sk-label label {\n",
       "  /* The background is the default theme color */\n",
       "  color: var(--sklearn-color-text-on-default-background);\n",
       "}\n",
       "\n",
       "/* On hover, darken the color of the background */\n",
       "#sk-container-id-1 div.sk-label:hover label.sk-toggleable__label {\n",
       "  color: var(--sklearn-color-text);\n",
       "  background-color: var(--sklearn-color-unfitted-level-2);\n",
       "}\n",
       "\n",
       "/* Label box, darken color on hover, fitted */\n",
       "#sk-container-id-1 div.sk-label.fitted:hover label.sk-toggleable__label.fitted {\n",
       "  color: var(--sklearn-color-text);\n",
       "  background-color: var(--sklearn-color-fitted-level-2);\n",
       "}\n",
       "\n",
       "/* Estimator label */\n",
       "\n",
       "#sk-container-id-1 div.sk-label label {\n",
       "  font-family: monospace;\n",
       "  font-weight: bold;\n",
       "  display: inline-block;\n",
       "  line-height: 1.2em;\n",
       "}\n",
       "\n",
       "#sk-container-id-1 div.sk-label-container {\n",
       "  text-align: center;\n",
       "}\n",
       "\n",
       "/* Estimator-specific */\n",
       "#sk-container-id-1 div.sk-estimator {\n",
       "  font-family: monospace;\n",
       "  border: 1px dotted var(--sklearn-color-border-box);\n",
       "  border-radius: 0.25em;\n",
       "  box-sizing: border-box;\n",
       "  margin-bottom: 0.5em;\n",
       "  /* unfitted */\n",
       "  background-color: var(--sklearn-color-unfitted-level-0);\n",
       "}\n",
       "\n",
       "#sk-container-id-1 div.sk-estimator.fitted {\n",
       "  /* fitted */\n",
       "  background-color: var(--sklearn-color-fitted-level-0);\n",
       "}\n",
       "\n",
       "/* on hover */\n",
       "#sk-container-id-1 div.sk-estimator:hover {\n",
       "  /* unfitted */\n",
       "  background-color: var(--sklearn-color-unfitted-level-2);\n",
       "}\n",
       "\n",
       "#sk-container-id-1 div.sk-estimator.fitted:hover {\n",
       "  /* fitted */\n",
       "  background-color: var(--sklearn-color-fitted-level-2);\n",
       "}\n",
       "\n",
       "/* Specification for estimator info (e.g. \"i\" and \"?\") */\n",
       "\n",
       "/* Common style for \"i\" and \"?\" */\n",
       "\n",
       ".sk-estimator-doc-link,\n",
       "a:link.sk-estimator-doc-link,\n",
       "a:visited.sk-estimator-doc-link {\n",
       "  float: right;\n",
       "  font-size: smaller;\n",
       "  line-height: 1em;\n",
       "  font-family: monospace;\n",
       "  background-color: var(--sklearn-color-background);\n",
       "  border-radius: 1em;\n",
       "  height: 1em;\n",
       "  width: 1em;\n",
       "  text-decoration: none !important;\n",
       "  margin-left: 1ex;\n",
       "  /* unfitted */\n",
       "  border: var(--sklearn-color-unfitted-level-1) 1pt solid;\n",
       "  color: var(--sklearn-color-unfitted-level-1);\n",
       "}\n",
       "\n",
       ".sk-estimator-doc-link.fitted,\n",
       "a:link.sk-estimator-doc-link.fitted,\n",
       "a:visited.sk-estimator-doc-link.fitted {\n",
       "  /* fitted */\n",
       "  border: var(--sklearn-color-fitted-level-1) 1pt solid;\n",
       "  color: var(--sklearn-color-fitted-level-1);\n",
       "}\n",
       "\n",
       "/* On hover */\n",
       "div.sk-estimator:hover .sk-estimator-doc-link:hover,\n",
       ".sk-estimator-doc-link:hover,\n",
       "div.sk-label-container:hover .sk-estimator-doc-link:hover,\n",
       ".sk-estimator-doc-link:hover {\n",
       "  /* unfitted */\n",
       "  background-color: var(--sklearn-color-unfitted-level-3);\n",
       "  color: var(--sklearn-color-background);\n",
       "  text-decoration: none;\n",
       "}\n",
       "\n",
       "div.sk-estimator.fitted:hover .sk-estimator-doc-link.fitted:hover,\n",
       ".sk-estimator-doc-link.fitted:hover,\n",
       "div.sk-label-container:hover .sk-estimator-doc-link.fitted:hover,\n",
       ".sk-estimator-doc-link.fitted:hover {\n",
       "  /* fitted */\n",
       "  background-color: var(--sklearn-color-fitted-level-3);\n",
       "  color: var(--sklearn-color-background);\n",
       "  text-decoration: none;\n",
       "}\n",
       "\n",
       "/* Span, style for the box shown on hovering the info icon */\n",
       ".sk-estimator-doc-link span {\n",
       "  display: none;\n",
       "  z-index: 9999;\n",
       "  position: relative;\n",
       "  font-weight: normal;\n",
       "  right: .2ex;\n",
       "  padding: .5ex;\n",
       "  margin: .5ex;\n",
       "  width: min-content;\n",
       "  min-width: 20ex;\n",
       "  max-width: 50ex;\n",
       "  color: var(--sklearn-color-text);\n",
       "  box-shadow: 2pt 2pt 4pt #999;\n",
       "  /* unfitted */\n",
       "  background: var(--sklearn-color-unfitted-level-0);\n",
       "  border: .5pt solid var(--sklearn-color-unfitted-level-3);\n",
       "}\n",
       "\n",
       ".sk-estimator-doc-link.fitted span {\n",
       "  /* fitted */\n",
       "  background: var(--sklearn-color-fitted-level-0);\n",
       "  border: var(--sklearn-color-fitted-level-3);\n",
       "}\n",
       "\n",
       ".sk-estimator-doc-link:hover span {\n",
       "  display: block;\n",
       "}\n",
       "\n",
       "/* \"?\"-specific style due to the `<a>` HTML tag */\n",
       "\n",
       "#sk-container-id-1 a.estimator_doc_link {\n",
       "  float: right;\n",
       "  font-size: 1rem;\n",
       "  line-height: 1em;\n",
       "  font-family: monospace;\n",
       "  background-color: var(--sklearn-color-background);\n",
       "  border-radius: 1rem;\n",
       "  height: 1rem;\n",
       "  width: 1rem;\n",
       "  text-decoration: none;\n",
       "  /* unfitted */\n",
       "  color: var(--sklearn-color-unfitted-level-1);\n",
       "  border: var(--sklearn-color-unfitted-level-1) 1pt solid;\n",
       "}\n",
       "\n",
       "#sk-container-id-1 a.estimator_doc_link.fitted {\n",
       "  /* fitted */\n",
       "  border: var(--sklearn-color-fitted-level-1) 1pt solid;\n",
       "  color: var(--sklearn-color-fitted-level-1);\n",
       "}\n",
       "\n",
       "/* On hover */\n",
       "#sk-container-id-1 a.estimator_doc_link:hover {\n",
       "  /* unfitted */\n",
       "  background-color: var(--sklearn-color-unfitted-level-3);\n",
       "  color: var(--sklearn-color-background);\n",
       "  text-decoration: none;\n",
       "}\n",
       "\n",
       "#sk-container-id-1 a.estimator_doc_link.fitted:hover {\n",
       "  /* fitted */\n",
       "  background-color: var(--sklearn-color-fitted-level-3);\n",
       "}\n",
       "</style><div id=\"sk-container-id-1\" class=\"sk-top-container\"><div class=\"sk-text-repr-fallback\"><pre>RandomForestRegressor()</pre><b>In a Jupyter environment, please rerun this cell to show the HTML representation or trust the notebook. <br />On GitHub, the HTML representation is unable to render, please try loading this page with nbviewer.org.</b></div><div class=\"sk-container\" hidden><div class=\"sk-item\"><div class=\"sk-estimator fitted sk-toggleable\"><input class=\"sk-toggleable__control sk-hidden--visually\" id=\"sk-estimator-id-1\" type=\"checkbox\" checked><label for=\"sk-estimator-id-1\" class=\"sk-toggleable__label fitted sk-toggleable__label-arrow fitted\">&nbsp;&nbsp;RandomForestRegressor<a class=\"sk-estimator-doc-link fitted\" rel=\"noreferrer\" target=\"_blank\" href=\"https://scikit-learn.org/1.4/modules/generated/sklearn.ensemble.RandomForestRegressor.html\">?<span>Documentation for RandomForestRegressor</span></a><span class=\"sk-estimator-doc-link fitted\">i<span>Fitted</span></span></label><div class=\"sk-toggleable__content fitted\"><pre>RandomForestRegressor()</pre></div> </div></div></div></div>"
      ],
      "text/plain": [
       "RandomForestRegressor()"
      ]
     },
     "execution_count": 20,
     "metadata": {},
     "output_type": "execute_result"
    }
   ],
   "source": [
    "from sklearn.ensemble import RandomForestRegressor\n",
    "\n",
    "# Create and train the model\n",
    "model = RandomForestRegressor()\n",
    "model.fit(X_train, y_train)\n"
   ]
  },
  {
   "cell_type": "code",
   "execution_count": 24,
   "id": "4eb26ce8-7549-46eb-8f8e-8f3b16b88ec5",
   "metadata": {},
   "outputs": [
    {
     "name": "stdout",
     "output_type": "stream",
     "text": [
      "                                 Feature    Importance\n",
      "1                    wti_crude_eia_price  7.309859e-01\n",
      "5                        opec_production  2.604348e-01\n",
      "0                      brent_crude_price  1.957889e-03\n",
      "10                  wti_crude_price_lag1  1.200325e-03\n",
      "26            wti_crude_price_rolling_7d  1.040877e-03\n",
      "51             oil_sentiment_interaction  9.270006e-04\n",
      "16         wti_crude_price_pct_change_7d  8.242239e-04\n",
      "15         wti_crude_price_pct_change_3d  6.459099e-04\n",
      "14         wti_crude_price_pct_change_1d  5.533749e-04\n",
      "50                sentiment_adjusted_wti  4.980244e-04\n",
      "34         wti_crude_price_volatility_7d  4.114805e-04\n",
      "11                brent_crude_price_lag1  2.716079e-04\n",
      "37      brent_crude_price_volatility_30d  5.982653e-05\n",
      "35        wti_crude_price_volatility_30d  3.565000e-05\n",
      "27           wti_crude_price_rolling_30d  1.632660e-05\n",
      "28          brent_crude_price_rolling_7d  1.110868e-05\n",
      "13                     us_dxy_index_lag1  9.656794e-06\n",
      "41           us_dxy_index_volatility_30d  7.689367e-06\n",
      "25            us_dxy_index_pct_change_7d  7.663590e-06\n",
      "48       us_dxy_index_volatility_7d_lag1  7.513117e-06\n",
      "32               us_dxy_index_rolling_7d  6.793319e-06\n",
      "42    wti_crude_price_volatility_7d_lag1  5.744635e-06\n",
      "31          Google_Sentiment_rolling_30d  5.423450e-06\n",
      "47   Google_Sentiment_volatility_7d_lag3  4.893357e-06\n",
      "39       Google_Sentiment_volatility_30d  4.812960e-06\n",
      "33              us_dxy_index_rolling_30d  4.708116e-06\n",
      "19       brent_crude_price_pct_change_7d  4.422488e-06\n",
      "7                    us_crude_production  4.077315e-06\n",
      "17       brent_crude_price_pct_change_1d  4.055288e-06\n",
      "43    wti_crude_price_volatility_7d_lag3  3.784355e-06\n",
      "30           Google_Sentiment_rolling_7d  3.646801e-06\n",
      "29         brent_crude_price_rolling_30d  3.129828e-06\n",
      "4                           us_dxy_index  3.124727e-06\n",
      "40            us_dxy_index_volatility_7d  2.524973e-06\n",
      "36       brent_crude_price_volatility_7d  2.384648e-06\n",
      "49       us_dxy_index_volatility_7d_lag3  2.173554e-06\n",
      "24            us_dxy_index_pct_change_3d  2.169167e-06\n",
      "52                      sentiment_vs_dxy  2.096876e-06\n",
      "38        Google_Sentiment_volatility_7d  2.050534e-06\n",
      "21        Google_Sentiment_pct_change_3d  2.021105e-06\n",
      "20        Google_Sentiment_pct_change_1d  1.991665e-06\n",
      "8                       Google_Sentiment  1.948283e-06\n",
      "23            us_dxy_index_pct_change_1d  1.906837e-06\n",
      "46   Google_Sentiment_volatility_7d_lag1  1.887270e-06\n",
      "44  brent_crude_price_volatility_7d_lag1  1.875081e-06\n",
      "18       brent_crude_price_pct_change_3d  1.850546e-06\n",
      "45  brent_crude_price_volatility_7d_lag3  1.746335e-06\n",
      "22        Google_Sentiment_pct_change_7d  1.652413e-06\n",
      "6                   us_crude_inventories  1.424509e-06\n",
      "9                    Google_Sentiment_3d  1.066824e-06\n",
      "12                 Google_Sentiment_lag1  1.000311e-06\n",
      "2                                 us_cpi  3.968962e-07\n",
      "3                            us_fed_rate  3.782712e-07\n"
     ]
    }
   ],
   "source": [
    "import pandas as pd\n",
    "\n",
    "# Use X_train.columns to dynamically get the correct feature names\n",
    "feature_names = X_train.columns\n",
    "\n",
    "# Create a DataFrame for feature importances\n",
    "feature_importances = pd.DataFrame({\n",
    "    'Feature': feature_names,\n",
    "    'Importance': model.feature_importances_\n",
    "})\n",
    "\n",
    "# Sort by descending importance\n",
    "feature_importances = feature_importances.sort_values(by='Importance', ascending=False)\n",
    "\n",
    "# Display the feature importances\n",
    "print(feature_importances)\n",
    "\n",
    "# Save to CSV\n",
    "feature_importances.to_csv('feature_importances.csv', index=False)\n"
   ]
  },
  {
   "cell_type": "code",
   "execution_count": null,
   "id": "7571b99e-7c27-4bd0-8e95-8a3c95db7aa9",
   "metadata": {},
   "outputs": [],
   "source": []
  }
 ],
 "metadata": {
  "kernelspec": {
   "display_name": "Python 3 (ipykernel)",
   "language": "python",
   "name": "python3"
  },
  "language_info": {
   "codemirror_mode": {
    "name": "ipython",
    "version": 3
   },
   "file_extension": ".py",
   "mimetype": "text/x-python",
   "name": "python",
   "nbconvert_exporter": "python",
   "pygments_lexer": "ipython3",
   "version": "3.12.4"
  }
 },
 "nbformat": 4,
 "nbformat_minor": 5
}
